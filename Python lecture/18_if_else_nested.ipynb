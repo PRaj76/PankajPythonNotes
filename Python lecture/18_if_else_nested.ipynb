{
 "cells": [
  {
   "cell_type": "code",
   "execution_count": 6,
   "metadata": {},
   "outputs": [
    {
     "name": "stdout",
     "output_type": "stream",
     "text": [
      "this is my print\n"
     ]
    }
   ],
   "source": [
    "number = int(input(\"enter a number\"))\n",
    "if number > 0 :\n",
    "    pass\n",
    "print(\"this is my print\")"
   ]
  },
  {
   "cell_type": "code",
   "execution_count": 9,
   "metadata": {},
   "outputs": [
    {
     "name": "stdout",
     "output_type": "stream",
     "text": [
      "input number is negative -45\n"
     ]
    }
   ],
   "source": [
    "number = int(input(\"enter a number\"))\n",
    "if number > 0 :\n",
    "    print(\"number is positive\" , number)\n",
    "elif number == 0 :\n",
    "    print(\"input number is zero\")\n",
    "elif number < 0 :\n",
    "    print(\"input number is negative\" , number)"
   ]
  },
  {
   "cell_type": "code",
   "execution_count": 8,
   "metadata": {},
   "outputs": [
    {
     "name": "stdout",
     "output_type": "stream",
     "text": [
      "input number is negative -45\n"
     ]
    }
   ],
   "source": [
    "number = int(input(\"enter a number\"))\n",
    "if number > 0 :\n",
    "    print(\"number is positive\" , number)\n",
    "if number == 0 :\n",
    "    print(\"input number is zero\")\n",
    "if number < 0 :\n",
    "    print(\"input number is negative\" , number)"
   ]
  },
  {
   "cell_type": "code",
   "execution_count": 10,
   "metadata": {},
   "outputs": [
    {
     "name": "stdout",
     "output_type": "stream",
     "text": [
      "number is a even number 0\n"
     ]
    }
   ],
   "source": [
    "number = int(input(\"enter a number to check even or odd\"))\n",
    "if number % 2 == 0 :\n",
    "    print(\"number is a even number\" ,number)\n",
    "else :\n",
    "    print(\"nubmer must be odd\")\n",
    " "
   ]
  },
  {
   "cell_type": "code",
   "execution_count": 11,
   "metadata": {},
   "outputs": [
    {
     "name": "stdout",
     "output_type": "stream",
     "text": [
      "you are an adult 25\n"
     ]
    }
   ],
   "source": [
    "age = int(input(\"enter your age\"))\n",
    "if age < 18 :\n",
    "    print(\"you are a child \",age)\n",
    "elif age < 65:\n",
    "    print(\"you are an adult\",age)\n",
    "else :\n",
    "    print(\"i am a senior\",age)"
   ]
  },
  {
   "cell_type": "code",
   "execution_count": 13,
   "metadata": {},
   "outputs": [
    {
     "name": "stdout",
     "output_type": "stream",
     "text": [
      "you are an adult 28\n"
     ]
    }
   ],
   "source": [
    "age = int(input(\"enter your age\"))\n",
    "if age < 18 :\n",
    "    print(\"you are a child \",age)\n",
    "elif age < 65:\n",
    "    print(\"you are an adult\",age)\n",
    "else :\n",
    "    print(\"i am a senior\",age)"
   ]
  },
  {
   "cell_type": "code",
   "execution_count": 15,
   "metadata": {},
   "outputs": [
    {
     "name": "stdout",
     "output_type": "stream",
     "text": [
      "grade A\n",
      "grade B\n",
      "grade C \n"
     ]
    }
   ],
   "source": [
    "score = int(input(\"enter your score\"))\n",
    "if score >= 90:\n",
    "    print(\"grade A\")\n",
    "if score >=80 :\n",
    "    print(\"grade B\")\n",
    "if score >=70 :\n",
    "    print(\"grade C \")\n",
    "else :\n",
    "    print(\"fail\")\n",
    "    "
   ]
  },
  {
   "cell_type": "code",
   "execution_count": 16,
   "metadata": {},
   "outputs": [
    {
     "data": {
      "text/plain": [
       "5854"
      ]
     },
     "execution_count": 16,
     "metadata": {},
     "output_type": "execute_result"
    }
   ],
   "source": [
    "score"
   ]
  },
  {
   "cell_type": "code",
   "execution_count": 17,
   "metadata": {},
   "outputs": [
    {
     "name": "stdout",
     "output_type": "stream",
     "text": [
      "grade A\n"
     ]
    }
   ],
   "source": [
    "score = int(input(\"enter your score\"))\n",
    "if score >= 90:\n",
    "    print(\"grade A\")\n",
    "elif score >=80 :\n",
    "    print(\"grade B\")\n",
    "elif score >=70 :\n",
    "    print(\"grade C \")\n",
    "else :\n",
    "    print(\"fail\")"
   ]
  },
  {
   "cell_type": "code",
   "execution_count": 19,
   "metadata": {},
   "outputs": [
    {
     "name": "stdout",
     "output_type": "stream",
     "text": [
      "Discount 0\n"
     ]
    }
   ],
   "source": [
    "amount = float(input(\"enter the purchase amount\"))\n",
    "if amount > 1000:\n",
    "    discount = amount * .1\n",
    "elif amount > 500 :\n",
    "    discount = amount*.05\n",
    "elif amount > 250 :\n",
    "    discount = amount * .025\n",
    "else :\n",
    "    discount = 0 \n",
    "\n",
    "print(\"Discount\" ,discount) "
   ]
  },
  {
   "cell_type": "code",
   "execution_count": 20,
   "metadata": {},
   "outputs": [
    {
     "name": "stdout",
     "output_type": "stream",
     "text": [
      "cost 341.0\n"
     ]
    }
   ],
   "source": [
    "weight = float(input(\"enter the weight of a package\"))\n",
    "location = input(\"enter a location local/international\").lower()\n",
    "\n",
    "if location == \"local\":\n",
    "    if weight <= 2 :\n",
    "        if weight <= 1 :\n",
    "            cost = 2 \n",
    "        else :\n",
    "            cost = 3\n",
    "    elif weight <= 5 :\n",
    "        cost = 5 \n",
    "    else :\n",
    "        cost = 3+ (weight-2 )*1.5\n",
    "else :\n",
    "    if weight <= 2:\n",
    "        cost = 5\n",
    "    else :\n",
    "        cost = 5+ (weight-1) * 4\n",
    "print(\"cost\" ,cost)"
   ]
  },
  {
   "cell_type": "code",
   "execution_count": 21,
   "metadata": {},
   "outputs": [
    {
     "data": {
      "text/plain": [
       "85.0"
      ]
     },
     "execution_count": 21,
     "metadata": {},
     "output_type": "execute_result"
    }
   ],
   "source": [
    "weight"
   ]
  },
  {
   "cell_type": "code",
   "execution_count": 22,
   "metadata": {},
   "outputs": [
    {
     "data": {
      "text/plain": [
       "'48'"
      ]
     },
     "execution_count": 22,
     "metadata": {},
     "output_type": "execute_result"
    }
   ],
   "source": [
    "location"
   ]
  },
  {
   "cell_type": "code",
   "execution_count": 23,
   "metadata": {},
   "outputs": [
    {
     "name": "stdout",
     "output_type": "stream",
     "text": [
      "scalene triangle\n"
     ]
    }
   ],
   "source": [
    "a = int(input(\"enter a triangle a side \"))\n",
    "b = int(input(\"enter a triangle b side \"))\n",
    "c = int(input(\"enter a triangle c side \"))\n",
    "\n",
    "if a ==b == c :\n",
    "    print(\"this is a equilateral triangle\")\n",
    "elif a== b or b == c or a == c :\n",
    "    print(\"isoscles triangle\")\n",
    "else :\n",
    "    print(\"scalene triangle\")"
   ]
  },
  {
   "cell_type": "code",
   "execution_count": 24,
   "metadata": {},
   "outputs": [
    {
     "data": {
      "text/plain": [
       "(25, 45, 48)"
      ]
     },
     "execution_count": 24,
     "metadata": {},
     "output_type": "execute_result"
    }
   ],
   "source": [
    "a,b,c"
   ]
  },
  {
   "cell_type": "code",
   "execution_count": 26,
   "metadata": {},
   "outputs": [
    {
     "data": {
      "text/plain": [
       "False"
      ]
     },
     "execution_count": 26,
     "metadata": {},
     "output_type": "execute_result"
    }
   ],
   "source": [
    "a== b or b == c or a == c"
   ]
  },
  {
   "cell_type": "code",
   "execution_count": 28,
   "metadata": {},
   "outputs": [
    {
     "name": "stdout",
     "output_type": "stream",
     "text": [
      "we have a valid triangle\n"
     ]
    }
   ],
   "source": [
    "a = int(input(\"enter a triangle a side \"))\n",
    "b = int(input(\"enter a triangle b side \"))\n",
    "c = int(input(\"enter a triangle c side \"))\n",
    "\n",
    "if a+b >c  and a+c > b and b+c > a :\n",
    "    print(\"we have a valid triangle\")\n",
    "\n",
    "else :\n",
    "    print(\"invalid triangle\")"
   ]
  },
  {
   "cell_type": "code",
   "execution_count": 29,
   "metadata": {},
   "outputs": [
    {
     "data": {
      "text/plain": [
       "(45, 48, 78)"
      ]
     },
     "execution_count": 29,
     "metadata": {},
     "output_type": "execute_result"
    }
   ],
   "source": [
    "a,b,c"
   ]
  },
  {
   "cell_type": "code",
   "execution_count": 30,
   "metadata": {},
   "outputs": [
    {
     "data": {
      "text/plain": [
       "True"
      ]
     },
     "execution_count": 30,
     "metadata": {},
     "output_type": "execute_result"
    }
   ],
   "source": [
    "a+b >c  and a+c > b and b+c > a "
   ]
  },
  {
   "cell_type": "code",
   "execution_count": null,
   "metadata": {},
   "outputs": [],
   "source": []
  }
 ],
 "metadata": {
  "kernelspec": {
   "display_name": "Python 3",
   "language": "python",
   "name": "python3"
  },
  "language_info": {
   "codemirror_mode": {
    "name": "ipython",
    "version": 3
   },
   "file_extension": ".py",
   "mimetype": "text/x-python",
   "name": "python",
   "nbconvert_exporter": "python",
   "pygments_lexer": "ipython3",
   "version": "3.9.13"
  }
 },
 "nbformat": 4,
 "nbformat_minor": 2
}
