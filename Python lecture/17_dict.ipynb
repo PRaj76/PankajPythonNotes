{
 "cells": [
  {
   "cell_type": "code",
   "execution_count": 1,
   "metadata": {},
   "outputs": [],
   "source": [
    "d = {}"
   ]
  },
  {
   "cell_type": "code",
   "execution_count": 2,
   "metadata": {},
   "outputs": [
    {
     "data": {
      "text/plain": [
       "dict"
      ]
     },
     "execution_count": 2,
     "metadata": {},
     "output_type": "execute_result"
    }
   ],
   "source": [
    "type(d)"
   ]
  },
  {
   "cell_type": "code",
   "execution_count": 3,
   "metadata": {},
   "outputs": [],
   "source": [
    "d1 = dict()"
   ]
  },
  {
   "cell_type": "code",
   "execution_count": 4,
   "metadata": {},
   "outputs": [
    {
     "data": {
      "text/plain": [
       "dict"
      ]
     },
     "execution_count": 4,
     "metadata": {},
     "output_type": "execute_result"
    }
   ],
   "source": [
    "type(d1)"
   ]
  },
  {
   "cell_type": "code",
   "execution_count": 28,
   "metadata": {},
   "outputs": [],
   "source": [
    "d2 = {\"name\":\"Pankaj\" , \"emai_id\" : \"pankajraj7651@gmail.com\"}"
   ]
  },
  {
   "cell_type": "code",
   "execution_count": 29,
   "metadata": {},
   "outputs": [],
   "source": [
    "d3 = {12:\"Pankaj\"}"
   ]
  },
  {
   "cell_type": "code",
   "execution_count": 30,
   "metadata": {},
   "outputs": [
    {
     "ename": "SyntaxError",
     "evalue": "unexpected EOF while parsing (174751781.py, line 1)",
     "output_type": "error",
     "traceback": [
      "\u001b[1;36m  Cell \u001b[1;32mIn[30], line 1\u001b[1;36m\u001b[0m\n\u001b[1;33m    d3 = {#:\"Pankaj\"}\u001b[0m\n\u001b[1;37m                     ^\u001b[0m\n\u001b[1;31mSyntaxError\u001b[0m\u001b[1;31m:\u001b[0m unexpected EOF while parsing\n"
     ]
    }
   ],
   "source": [
    "d3 = {#:\"Pankaj\"}"
   ]
  },
  {
   "cell_type": "code",
   "execution_count": 31,
   "metadata": {},
   "outputs": [],
   "source": [
    "d3 = {\"#\":\"Pankaj\"}"
   ]
  },
  {
   "cell_type": "code",
   "execution_count": 33,
   "metadata": {},
   "outputs": [
    {
     "ename": "TypeError",
     "evalue": "unhashable type: 'list'",
     "output_type": "error",
     "traceback": [
      "\u001b[1;31m---------------------------------------------------------------------------\u001b[0m",
      "\u001b[1;31mTypeError\u001b[0m                                 Traceback (most recent call last)",
      "Cell \u001b[1;32mIn[33], line 1\u001b[0m\n\u001b[1;32m----> 1\u001b[0m d3 \u001b[38;5;241m=\u001b[39m {[\u001b[38;5;241m2\u001b[39m,\u001b[38;5;241m3\u001b[39m,\u001b[38;5;241m4\u001b[39m]:\u001b[38;5;124m\"\u001b[39m\u001b[38;5;124mPankaj\u001b[39m\u001b[38;5;124m\"\u001b[39m}\n",
      "\u001b[1;31mTypeError\u001b[0m: unhashable type: 'list'"
     ]
    }
   ],
   "source": [
    "d3 = {[2,3,4]:\"Pankaj\"}"
   ]
  },
  {
   "cell_type": "code",
   "execution_count": 34,
   "metadata": {},
   "outputs": [],
   "source": [
    "d3 = {(1,2,3,4):\"Pankaj\"}"
   ]
  },
  {
   "cell_type": "code",
   "execution_count": 35,
   "metadata": {},
   "outputs": [
    {
     "ename": "TypeError",
     "evalue": "unhashable type: 'set'",
     "output_type": "error",
     "traceback": [
      "\u001b[1;31m---------------------------------------------------------------------------\u001b[0m",
      "\u001b[1;31mTypeError\u001b[0m                                 Traceback (most recent call last)",
      "Cell \u001b[1;32mIn[35], line 1\u001b[0m\n\u001b[1;32m----> 1\u001b[0m d3 \u001b[38;5;241m=\u001b[39m {{\u001b[38;5;241m1\u001b[39m,\u001b[38;5;241m2\u001b[39m,\u001b[38;5;241m3\u001b[39m,\u001b[38;5;241m4\u001b[39m}:\u001b[38;5;124m\"\u001b[39m\u001b[38;5;124mPankaj\u001b[39m\u001b[38;5;124m\"\u001b[39m}\n",
      "\u001b[1;31mTypeError\u001b[0m: unhashable type: 'set'"
     ]
    }
   ],
   "source": [
    "d3 = {{1,2,3,4}:\"Pankaj\"}"
   ]
  },
  {
   "cell_type": "code",
   "execution_count": 36,
   "metadata": {},
   "outputs": [],
   "source": [
    "d3 = {False:\"Pankaj\"}"
   ]
  },
  {
   "cell_type": "code",
   "execution_count": 37,
   "metadata": {},
   "outputs": [],
   "source": [
    "d3 = {34.56:\"Pankaj\"}"
   ]
  },
  {
   "cell_type": "code",
   "execution_count": 14,
   "metadata": {},
   "outputs": [],
   "source": [
    "d3 = {23+78j:\"Pankaj\"}"
   ]
  },
  {
   "cell_type": "code",
   "execution_count": 40,
   "metadata": {},
   "outputs": [
    {
     "ename": "TypeError",
     "evalue": "unhashable type: 'dict'",
     "output_type": "error",
     "traceback": [
      "\u001b[1;31m---------------------------------------------------------------------------\u001b[0m",
      "\u001b[1;31mTypeError\u001b[0m                                 Traceback (most recent call last)",
      "Cell \u001b[1;32mIn[40], line 1\u001b[0m\n\u001b[1;32m----> 1\u001b[0m d3 \u001b[38;5;241m=\u001b[39m {{\u001b[38;5;124m\"\u001b[39m\u001b[38;5;124mkey\u001b[39m\u001b[38;5;124m\"\u001b[39m:\u001b[38;5;124m\"\u001b[39m\u001b[38;5;124mvalue\u001b[39m\u001b[38;5;124m\"\u001b[39m}:\u001b[38;5;124m\"\u001b[39m\u001b[38;5;124mPankaj\u001b[39m\u001b[38;5;124m\"\u001b[39m}\n",
      "\u001b[1;31mTypeError\u001b[0m: unhashable type: 'dict'"
     ]
    }
   ],
   "source": [
    "d3 = {{\"key\":\"value\"}:\"Pankaj\"}"
   ]
  },
  {
   "cell_type": "code",
   "execution_count": 41,
   "metadata": {},
   "outputs": [],
   "source": [
    "d4 = {\"name\":\"Pankaj\" ,\"name\" :\"Pankaj Raj\"}"
   ]
  },
  {
   "cell_type": "code",
   "execution_count": 42,
   "metadata": {},
   "outputs": [
    {
     "data": {
      "text/plain": [
       "{'name': 'Pankaj Raj'}"
      ]
     },
     "execution_count": 42,
     "metadata": {},
     "output_type": "execute_result"
    }
   ],
   "source": [
    "d4"
   ]
  },
  {
   "cell_type": "code",
   "execution_count": 43,
   "metadata": {},
   "outputs": [],
   "source": [
    "d5 = {\"name\" :\"Pankaj\" ,\"subject\":[\"prog\",\"data science\",\"big data\",\"data analytics\",\"web dev\",\"DSA\"]}"
   ]
  },
  {
   "cell_type": "code",
   "execution_count": 44,
   "metadata": {},
   "outputs": [
    {
     "data": {
      "text/plain": [
       "{'name': 'Pankaj',\n",
       " 'subject': ['prog',\n",
       "  'data science',\n",
       "  'big data',\n",
       "  'data analytics',\n",
       "  'web dev',\n",
       "  'DSA']}"
      ]
     },
     "execution_count": 44,
     "metadata": {},
     "output_type": "execute_result"
    }
   ],
   "source": [
    "d5"
   ]
  },
  {
   "cell_type": "code",
   "execution_count": 45,
   "metadata": {},
   "outputs": [],
   "source": [
    "\n",
    "d5 = {\"name\" :\"Pankaj\" ,\"subject\":[\"prog\",\"data science\",\"big data\",\"data analytics\",\"web dev\",\"DSA\"],\"email_id\":(\"pankajraj7651@gmail.com\",\"sudhanshu@gmail.com\")}"
   ]
  },
  {
   "cell_type": "code",
   "execution_count": 46,
   "metadata": {},
   "outputs": [
    {
     "data": {
      "text/plain": [
       "{'name': 'Pankaj',\n",
       " 'subject': ['prog',\n",
       "  'data science',\n",
       "  'big data',\n",
       "  'data analytics',\n",
       "  'web dev',\n",
       "  'DSA'],\n",
       " 'email_id': ('pankajraj7651@gmail.com', 'sudhanshu@gmail.com')}"
      ]
     },
     "execution_count": 46,
     "metadata": {},
     "output_type": "execute_result"
    }
   ],
   "source": [
    "d5"
   ]
  },
  {
   "cell_type": "code",
   "execution_count": 48,
   "metadata": {},
   "outputs": [],
   "source": [
    "d5 = {\"name\" :\"Pankaj\" ,\n",
    "      \"subject\":[\"prog\",\"data science\",\"big data\",\"data analytics\",\"web dev\",\"DSA\"],\n",
    "      \"email_id\":(\"pankajraj7651@gmail.com\",\"sudhanshu@gmail.com\"),\n",
    "      \"phone_number\" :91353543,\n",
    "      \"height\":176.45,\n",
    "      \"Male\":True}"
   ]
  },
  {
   "cell_type": "code",
   "execution_count": 49,
   "metadata": {},
   "outputs": [
    {
     "data": {
      "text/plain": [
       "{'name': 'Pankaj',\n",
       " 'subject': ['prog',\n",
       "  'data science',\n",
       "  'big data',\n",
       "  'data analytics',\n",
       "  'web dev',\n",
       "  'DSA'],\n",
       " 'email_id': ('pankajraj7651@gmail.com', 'sudhanshu@gmail.com'),\n",
       " 'phone_number': 91353543,\n",
       " 'height': 176.45,\n",
       " 'Male': True}"
      ]
     },
     "execution_count": 49,
     "metadata": {},
     "output_type": "execute_result"
    }
   ],
   "source": [
    "d5"
   ]
  },
  {
   "cell_type": "code",
   "execution_count": 51,
   "metadata": {},
   "outputs": [],
   "source": [
    "d5 = {\"name\" :\"Pankaj\" ,\n",
    "      \"subject\":[\"prog\",\"data science\",\"big data\",\"data analytics\",\"web dev\",\"DSA\"],\n",
    "      \"email_id\":(\"pamnkajraj7651@gmail.com\",\"sudhanshu@gmail.com\"),\n",
    "      \"phone_number\" :91353543,\n",
    "      \"height\":176.45,\n",
    "      \"Male\":True,\n",
    "      \"address\":\"prestige 34\",\n",
    "      \"luckey_number\":{1,2,3,4,4,52,3,4,5,65,6}}"
   ]
  },
  {
   "cell_type": "code",
   "execution_count": 52,
   "metadata": {},
   "outputs": [
    {
     "data": {
      "text/plain": [
       "{'name': 'Pankaj',\n",
       " 'subject': ['prog',\n",
       "  'data science',\n",
       "  'big data',\n",
       "  'data analytics',\n",
       "  'web dev',\n",
       "  'DSA'],\n",
       " 'email_id': ('pamnkajraj7651@gmail.com', 'sudhanshu@gmail.com'),\n",
       " 'phone_number': 91353543,\n",
       " 'height': 176.45,\n",
       " 'Male': True,\n",
       " 'address': 'prestige 34',\n",
       " 'luckey_number': {1, 2, 3, 4, 5, 6, 52, 65}}"
      ]
     },
     "execution_count": 52,
     "metadata": {},
     "output_type": "execute_result"
    }
   ],
   "source": [
    "d5"
   ]
  },
  {
   "cell_type": "code",
   "execution_count": 54,
   "metadata": {},
   "outputs": [],
   "source": [
    "d5 = {\"name\" :\"Pankaj\" ,\n",
    "      \"subject\":[\"prog\",\"data science\",\"big data\",\"data analytics\",\"web dev\",\"DSA\"],\n",
    "      \"email_id\":(\"pankajraj7651@gmail.com\",\"sudhanshu@gmail.com\"),\n",
    "      \"phone_number\" :91353543,\n",
    "      \"height\":176.45,\n",
    "      \"Male\":True,\n",
    "      \"address\":\"prestige 34\",\n",
    "      \"luckey_number\":{1,2,3,4,4,52,3,4,5,65,6},\n",
    "      \"resume\":{\"linkedin\":\"https://www.linkedin.com/in/pankaj-vishwakarma-1257b61a4/\",\n",
    "                \"github\":\"https://github.com/PRaj76\",\n",
    "                \"age\":30,\n",
    "                \"projects\":[\"megatron\",\"lab prject\",\"internship portal\" , \"hand safety\"]\n",
    "          \n",
    "      }}"
   ]
  },
  {
   "cell_type": "code",
   "execution_count": 55,
   "metadata": {},
   "outputs": [
    {
     "data": {
      "text/plain": [
       "{'name': 'Pankaj',\n",
       " 'subject': ['prog',\n",
       "  'data science',\n",
       "  'big data',\n",
       "  'data analytics',\n",
       "  'web dev',\n",
       "  'DSA'],\n",
       " 'email_id': ('pankajraj7651@gmail.com', 'sudhanshu@gmail.com'),\n",
       " 'phone_number': 91353543,\n",
       " 'height': 176.45,\n",
       " 'Male': True,\n",
       " 'address': 'prestige 34',\n",
       " 'luckey_number': {1, 2, 3, 4, 5, 6, 52, 65},\n",
       " 'resume': {'linkedin': 'https://www.linkedin.com/in/pankaj-vishwakarma-1257b61a4/',\n",
       "  'github': 'https://github.com/PRaj76',\n",
       "  'age': 30,\n",
       "  'projects': ['megatron', 'lab prject', 'internship portal', 'hand safety']}}"
      ]
     },
     "execution_count": 55,
     "metadata": {},
     "output_type": "execute_result"
    }
   ],
   "source": [
    "d5"
   ]
  },
  {
   "cell_type": "code",
   "execution_count": 56,
   "metadata": {},
   "outputs": [
    {
     "data": {
      "text/plain": [
       "'Pankaj'"
      ]
     },
     "execution_count": 56,
     "metadata": {},
     "output_type": "execute_result"
    }
   ],
   "source": [
    "d5[\"name\"]"
   ]
  },
  {
   "cell_type": "code",
   "execution_count": 57,
   "metadata": {},
   "outputs": [
    {
     "data": {
      "text/plain": [
       "{'linkedin': 'https://www.linkedin.com/in/pankaj-vishwakarma-1257b61a4/',\n",
       " 'github': 'https://github.com/PRaj76',\n",
       " 'age': 30,\n",
       " 'projects': ['megatron', 'lab prject', 'internship portal', 'hand safety']}"
      ]
     },
     "execution_count": 57,
     "metadata": {},
     "output_type": "execute_result"
    }
   ],
   "source": [
    "d5[\"resume\"]"
   ]
  },
  {
   "cell_type": "code",
   "execution_count": 58,
   "metadata": {},
   "outputs": [
    {
     "data": {
      "text/plain": [
       "dict"
      ]
     },
     "execution_count": 58,
     "metadata": {},
     "output_type": "execute_result"
    }
   ],
   "source": [
    "type(d5[\"resume\"])"
   ]
  },
  {
   "cell_type": "code",
   "execution_count": 59,
   "metadata": {},
   "outputs": [
    {
     "data": {
      "text/plain": [
       "'https://www.linkedin.com/in/pankaj-vishwakarma-1257b61a4/'"
      ]
     },
     "execution_count": 59,
     "metadata": {},
     "output_type": "execute_result"
    }
   ],
   "source": [
    "d5[\"resume\"]['linkedin']"
   ]
  },
  {
   "cell_type": "code",
   "execution_count": 60,
   "metadata": {},
   "outputs": [
    {
     "data": {
      "text/plain": [
       "{'linkedin': 'https://www.linkedin.com/in/pankaj-vishwakarma-1257b61a4/',\n",
       " 'github': 'https://github.com/PRaj76',\n",
       " 'age': 30,\n",
       " 'projects': ['megatron', 'lab prject', 'internship portal', 'hand safety']}"
      ]
     },
     "execution_count": 60,
     "metadata": {},
     "output_type": "execute_result"
    }
   ],
   "source": [
    "d5[\"resume\"]"
   ]
  },
  {
   "cell_type": "code",
   "execution_count": 61,
   "metadata": {},
   "outputs": [
    {
     "data": {
      "text/plain": [
       "'internship portal'"
      ]
     },
     "execution_count": 61,
     "metadata": {},
     "output_type": "execute_result"
    }
   ],
   "source": [
    "d5[\"resume\"]['projects'][2]"
   ]
  },
  {
   "cell_type": "code",
   "execution_count": 62,
   "metadata": {},
   "outputs": [
    {
     "data": {
      "text/plain": [
       "{'name': 'Pankaj',\n",
       " 'subject': ['prog',\n",
       "  'data science',\n",
       "  'big data',\n",
       "  'data analytics',\n",
       "  'web dev',\n",
       "  'DSA'],\n",
       " 'email_id': ('pankajraj7651@gmail.com', 'sudhanshu@gmail.com'),\n",
       " 'phone_number': 91353543,\n",
       " 'height': 176.45,\n",
       " 'Male': True,\n",
       " 'address': 'prestige 34',\n",
       " 'luckey_number': {1, 2, 3, 4, 5, 6, 52, 65},\n",
       " 'resume': {'linkedin': 'https://www.linkedin.com/in/pankaj-vishwakarma-1257b61a4/',\n",
       "  'github': 'https://github.com/PRaj76',\n",
       "  'age': 30,\n",
       "  'projects': ['megatron', 'lab prject', 'internship portal', 'hand safety']}}"
      ]
     },
     "execution_count": 62,
     "metadata": {},
     "output_type": "execute_result"
    }
   ],
   "source": [
    "d5"
   ]
  },
  {
   "cell_type": "code",
   "execution_count": 63,
   "metadata": {},
   "outputs": [],
   "source": [
    "d5['height'] = 165.78"
   ]
  },
  {
   "cell_type": "code",
   "execution_count": 64,
   "metadata": {},
   "outputs": [
    {
     "data": {
      "text/plain": [
       "{'name': 'Pankaj',\n",
       " 'subject': ['prog',\n",
       "  'data science',\n",
       "  'big data',\n",
       "  'data analytics',\n",
       "  'web dev',\n",
       "  'DSA'],\n",
       " 'email_id': ('pankajraj7651@gmail.com', 'sudhanshu@gmail.com'),\n",
       " 'phone_number': 91353543,\n",
       " 'height': 165.78,\n",
       " 'Male': True,\n",
       " 'address': 'prestige 34',\n",
       " 'luckey_number': {1, 2, 3, 4, 5, 6, 52, 65},\n",
       " 'resume': {'linkedin': 'https://www.linkedin.com/in/pankaj-vishwakarma-1257b61a4/',\n",
       "  'github': 'https://github.com/PRaj76',\n",
       "  'age': 30,\n",
       "  'projects': ['megatron', 'lab prject', 'internship portal', 'hand safety']}}"
      ]
     },
     "execution_count": 64,
     "metadata": {},
     "output_type": "execute_result"
    }
   ],
   "source": [
    "d5"
   ]
  },
  {
   "cell_type": "code",
   "execution_count": 65,
   "metadata": {},
   "outputs": [
    {
     "data": {
      "text/plain": [
       "{'name': 'Pankaj',\n",
       " 'subject': ['prog',\n",
       "  'data science',\n",
       "  'big data',\n",
       "  'data analytics',\n",
       "  'web dev',\n",
       "  'DSA'],\n",
       " 'email_id': ('pankajraj7651@gmail.com', 'sudhanshu@gmail.com'),\n",
       " 'phone_number': 91353543,\n",
       " 'height': 165.78,\n",
       " 'Male': True,\n",
       " 'address': 'prestige 34',\n",
       " 'luckey_number': {1, 2, 3, 4, 5, 6, 52, 65},\n",
       " 'resume': {'linkedin': 'https://www.linkedin.com/in/pankaj-vishwakarma-1257b61a4/',\n",
       "  'github': 'https://github.com/PRaj76',\n",
       "  'age': 30,\n",
       "  'projects': ['megatron', 'lab prject', 'internship portal', 'hand safety']}}"
      ]
     },
     "execution_count": 65,
     "metadata": {},
     "output_type": "execute_result"
    }
   ],
   "source": [
    "d5"
   ]
  },
  {
   "cell_type": "code",
   "execution_count": 66,
   "metadata": {},
   "outputs": [],
   "source": [
    "d5['company']=[\"wipro\",\"delloite\",\"verizon\",\"e&y\",\"ineuron\"]"
   ]
  },
  {
   "cell_type": "code",
   "execution_count": 67,
   "metadata": {},
   "outputs": [
    {
     "data": {
      "text/plain": [
       "{'name': 'Pankaj',\n",
       " 'subject': ['prog',\n",
       "  'data science',\n",
       "  'big data',\n",
       "  'data analytics',\n",
       "  'web dev',\n",
       "  'DSA'],\n",
       " 'email_id': ('pankajraj7651@gmail.com', 'sudhanshu@gmail.com'),\n",
       " 'phone_number': 91353543,\n",
       " 'height': 165.78,\n",
       " 'Male': True,\n",
       " 'address': 'prestige 34',\n",
       " 'luckey_number': {1, 2, 3, 4, 5, 6, 52, 65},\n",
       " 'resume': {'linkedin': 'https://www.linkedin.com/in/pankaj-vishwakarma-1257b61a4/',\n",
       "  'github': 'https://github.com/PRaj76',\n",
       "  'age': 30,\n",
       "  'projects': ['megatron', 'lab prject', 'internship portal', 'hand safety']},\n",
       " 'company': ['wipro', 'delloite', 'verizon', 'e&y', 'ineuron']}"
      ]
     },
     "execution_count": 67,
     "metadata": {},
     "output_type": "execute_result"
    }
   ],
   "source": [
    "d5"
   ]
  },
  {
   "cell_type": "code",
   "execution_count": 69,
   "metadata": {},
   "outputs": [
    {
     "data": {
      "text/plain": [
       "10"
      ]
     },
     "execution_count": 69,
     "metadata": {},
     "output_type": "execute_result"
    }
   ],
   "source": [
    "len(d5)"
   ]
  },
  {
   "cell_type": "code",
   "execution_count": 70,
   "metadata": {},
   "outputs": [
    {
     "data": {
      "text/plain": [
       "dict_keys(['name', 'subject', 'email_id', 'phone_number', 'height', 'Male', 'address', 'luckey_number', 'resume', 'company'])"
      ]
     },
     "execution_count": 70,
     "metadata": {},
     "output_type": "execute_result"
    }
   ],
   "source": [
    "d5.keys()"
   ]
  },
  {
   "cell_type": "code",
   "execution_count": 71,
   "metadata": {},
   "outputs": [
    {
     "data": {
      "text/plain": [
       "dict_keys(['linkedin', 'github', 'age', 'projects'])"
      ]
     },
     "execution_count": 71,
     "metadata": {},
     "output_type": "execute_result"
    }
   ],
   "source": [
    "d5[\"resume\"].keys()"
   ]
  },
  {
   "cell_type": "code",
   "execution_count": 72,
   "metadata": {},
   "outputs": [
    {
     "data": {
      "text/plain": [
       "['name',\n",
       " 'subject',\n",
       " 'email_id',\n",
       " 'phone_number',\n",
       " 'height',\n",
       " 'Male',\n",
       " 'address',\n",
       " 'luckey_number',\n",
       " 'resume',\n",
       " 'company']"
      ]
     },
     "execution_count": 72,
     "metadata": {},
     "output_type": "execute_result"
    }
   ],
   "source": [
    "list(d5.keys())"
   ]
  },
  {
   "cell_type": "code",
   "execution_count": 73,
   "metadata": {},
   "outputs": [
    {
     "data": {
      "text/plain": [
       "('name',\n",
       " 'subject',\n",
       " 'email_id',\n",
       " 'phone_number',\n",
       " 'height',\n",
       " 'Male',\n",
       " 'address',\n",
       " 'luckey_number',\n",
       " 'resume',\n",
       " 'company')"
      ]
     },
     "execution_count": 73,
     "metadata": {},
     "output_type": "execute_result"
    }
   ],
   "source": [
    "tuple(d5.keys())"
   ]
  },
  {
   "cell_type": "code",
   "execution_count": 74,
   "metadata": {},
   "outputs": [
    {
     "data": {
      "text/plain": [
       "dict_values(['Pankaj', ['prog', 'data science', 'big data', 'data analytics', 'web dev', 'DSA'], ('pankajraj7651@gmail.com', 'sudhanshu@gmail.com'), 91353543, 165.78, True, 'prestige 34', {1, 2, 3, 4, 5, 65, 6, 52}, {'linkedin': 'https://www.linkedin.com/in/pankaj-vishwakarma-1257b61a4/', 'github': 'https://github.com/PRaj76', 'age': 30, 'projects': ['megatron', 'lab prject', 'internship portal', 'hand safety']}, ['wipro', 'delloite', 'verizon', 'e&y', 'ineuron']])"
      ]
     },
     "execution_count": 74,
     "metadata": {},
     "output_type": "execute_result"
    }
   ],
   "source": [
    "d5.values()"
   ]
  },
  {
   "cell_type": "code",
   "execution_count": 75,
   "metadata": {},
   "outputs": [
    {
     "data": {
      "text/plain": [
       "['Pankaj',\n",
       " ['prog', 'data science', 'big data', 'data analytics', 'web dev', 'DSA'],\n",
       " ('pankajraj7651@gmail.com', 'sudhanshu@gmail.com'),\n",
       " 91353543,\n",
       " 165.78,\n",
       " True,\n",
       " 'prestige 34',\n",
       " {1, 2, 3, 4, 5, 6, 52, 65},\n",
       " {'linkedin': 'https://www.linkedin.com/in/pankaj-vishwakarma-1257b61a4/',\n",
       "  'github': 'https://github.com/PRaj76',\n",
       "  'age': 30,\n",
       "  'projects': ['megatron', 'lab prject', 'internship portal', 'hand safety']},\n",
       " ['wipro', 'delloite', 'verizon', 'e&y', 'ineuron']]"
      ]
     },
     "execution_count": 75,
     "metadata": {},
     "output_type": "execute_result"
    }
   ],
   "source": [
    "list(d5.values())"
   ]
  },
  {
   "cell_type": "code",
   "execution_count": 76,
   "metadata": {},
   "outputs": [
    {
     "data": {
      "text/plain": [
       "dict_items([('name', 'Pankaj'), ('subject', ['prog', 'data science', 'big data', 'data analytics', 'web dev', 'DSA']), ('email_id', ('pankajraj7651@gmail.com', 'sudhanshu@gmail.com')), ('phone_number', 91353543), ('height', 165.78), ('Male', True), ('address', 'prestige 34'), ('luckey_number', {1, 2, 3, 4, 5, 65, 6, 52}), ('resume', {'linkedin': 'https://www.linkedin.com/in/pankaj-vishwakarma-1257b61a4/', 'github': 'https://github.com/PRaj76', 'age': 30, 'projects': ['megatron', 'lab prject', 'internship portal', 'hand safety']}), ('company', ['wipro', 'delloite', 'verizon', 'e&y', 'ineuron'])])"
      ]
     },
     "execution_count": 76,
     "metadata": {},
     "output_type": "execute_result"
    }
   ],
   "source": [
    "d5.items()"
   ]
  },
  {
   "cell_type": "code",
   "execution_count": 77,
   "metadata": {},
   "outputs": [
    {
     "data": {
      "text/plain": [
       "[('name', 'Pankaj'),\n",
       " ('subject',\n",
       "  ['prog', 'data science', 'big data', 'data analytics', 'web dev', 'DSA']),\n",
       " ('email_id', ('pankajraj7651@gmail.com', 'sudhanshu@gmail.com')),\n",
       " ('phone_number', 91353543),\n",
       " ('height', 165.78),\n",
       " ('Male', True),\n",
       " ('address', 'prestige 34'),\n",
       " ('luckey_number', {1, 2, 3, 4, 5, 6, 52, 65}),\n",
       " ('resume',\n",
       "  {'linkedin': 'https://www.linkedin.com/in/pankaj-vishwakarma-1257b61a4/',\n",
       "   'github': 'https://github.com/PRaj76',\n",
       "   'age': 30,\n",
       "   'projects': ['megatron',\n",
       "    'lab prject',\n",
       "    'internship portal',\n",
       "    'hand safety']}),\n",
       " ('company', ['wipro', 'delloite', 'verizon', 'e&y', 'ineuron'])]"
      ]
     },
     "execution_count": 77,
     "metadata": {},
     "output_type": "execute_result"
    }
   ],
   "source": [
    "list(d5.items())"
   ]
  },
  {
   "cell_type": "code",
   "execution_count": 78,
   "metadata": {},
   "outputs": [
    {
     "data": {
      "text/plain": [
       "'Pankaj'"
      ]
     },
     "execution_count": 78,
     "metadata": {},
     "output_type": "execute_result"
    }
   ],
   "source": [
    "d5.get(\"name\")"
   ]
  },
  {
   "cell_type": "code",
   "execution_count": 79,
   "metadata": {},
   "outputs": [
    {
     "data": {
      "text/plain": [
       "{'linkedin': 'https://www.linkedin.com/in/pankaj-vishwakarma-1257b61a4/',\n",
       " 'github': 'https://github.com/PRaj76',\n",
       " 'age': 30,\n",
       " 'projects': ['megatron', 'lab prject', 'internship portal', 'hand safety']}"
      ]
     },
     "execution_count": 79,
     "metadata": {},
     "output_type": "execute_result"
    }
   ],
   "source": [
    "d5.get(\"resume\")"
   ]
  },
  {
   "cell_type": "code",
   "execution_count": 91,
   "metadata": {},
   "outputs": [],
   "source": [
    "d5.update({\"name\":\"Pankaj Raj\"})"
   ]
  },
  {
   "cell_type": "code",
   "execution_count": 92,
   "metadata": {},
   "outputs": [
    {
     "data": {
      "text/plain": [
       "{'subject': ['prog',\n",
       "  'data science',\n",
       "  'big data',\n",
       "  'data analytics',\n",
       "  'web dev',\n",
       "  'DSA'],\n",
       " 'email_id': ('pankajraj7651@gmail.com', 'sudhanshu@gmail.com'),\n",
       " 'phone_number': 91353543,\n",
       " 'height': 165.78,\n",
       " 'Male': True,\n",
       " 'address': 'prestige 34',\n",
       " 'luckey_number': {1, 2, 3, 4, 5, 6, 52, 65},\n",
       " 'resume': {'linkedin': 'https://www.linkedin.com/in/pankaj-vishwakarma-1257b61a4/',\n",
       "  'github': 'https://github.com/PRaj76',\n",
       "  'age': 30,\n",
       "  'projects': ['megatron', 'lab prject', 'internship portal', 'hand safety']},\n",
       " 'name': 'Pankaj Raj'}"
      ]
     },
     "execution_count": 92,
     "metadata": {},
     "output_type": "execute_result"
    }
   ],
   "source": [
    "d5"
   ]
  },
  {
   "cell_type": "code",
   "execution_count": 93,
   "metadata": {},
   "outputs": [
    {
     "data": {
      "text/plain": [
       "'Pankaj Raj'"
      ]
     },
     "execution_count": 93,
     "metadata": {},
     "output_type": "execute_result"
    }
   ],
   "source": [
    "d5.pop(\"name\")"
   ]
  },
  {
   "cell_type": "code",
   "execution_count": 83,
   "metadata": {},
   "outputs": [
    {
     "data": {
      "text/plain": [
       "{'subject': ['prog',\n",
       "  'data science',\n",
       "  'big data',\n",
       "  'data analytics',\n",
       "  'web dev',\n",
       "  'DSA'],\n",
       " 'email_id': ('pankajraj7651@gmail.com', 'sudhanshu@gmail.com'),\n",
       " 'phone_number': 91353543,\n",
       " 'height': 165.78,\n",
       " 'Male': True,\n",
       " 'address': 'prestige 34',\n",
       " 'luckey_number': {1, 2, 3, 4, 5, 6, 52, 65},\n",
       " 'resume': {'linkedin': 'https://www.linkedin.com/in/pankaj-vishwakarma-1257b61a4/',\n",
       "  'github': 'https://github.com/PRaj76',\n",
       "  'age': 30,\n",
       "  'projects': ['megatron', 'lab prject', 'internship portal', 'hand safety']},\n",
       " 'company': ['wipro', 'delloite', 'verizon', 'e&y', 'ineuron']}"
      ]
     },
     "execution_count": 83,
     "metadata": {},
     "output_type": "execute_result"
    }
   ],
   "source": [
    "d5"
   ]
  },
  {
   "cell_type": "code",
   "execution_count": 84,
   "metadata": {},
   "outputs": [
    {
     "data": {
      "text/plain": [
       "('company', ['wipro', 'delloite', 'verizon', 'e&y', 'ineuron'])"
      ]
     },
     "execution_count": 84,
     "metadata": {},
     "output_type": "execute_result"
    }
   ],
   "source": [
    "d5.popitem()"
   ]
  },
  {
   "cell_type": "code",
   "execution_count": 85,
   "metadata": {},
   "outputs": [
    {
     "data": {
      "text/plain": [
       "{'subject': ['prog',\n",
       "  'data science',\n",
       "  'big data',\n",
       "  'data analytics',\n",
       "  'web dev',\n",
       "  'DSA'],\n",
       " 'email_id': ('pankajraj7651@gmail.com', 'sudhanshu@gmail.com'),\n",
       " 'phone_number': 91353543,\n",
       " 'height': 165.78,\n",
       " 'Male': True,\n",
       " 'address': 'prestige 34',\n",
       " 'luckey_number': {1, 2, 3, 4, 5, 6, 52, 65},\n",
       " 'resume': {'linkedin': 'https://www.linkedin.com/in/pankaj-vishwakarma-1257b61a4/',\n",
       "  'github': 'https://github.com/PRaj76',\n",
       "  'age': 30,\n",
       "  'projects': ['megatron', 'lab prject', 'internship portal', 'hand safety']}}"
      ]
     },
     "execution_count": 85,
     "metadata": {},
     "output_type": "execute_result"
    }
   ],
   "source": [
    "d5"
   ]
  },
  {
   "cell_type": "code",
   "execution_count": 86,
   "metadata": {},
   "outputs": [],
   "source": [
    "d6 = d5.copy()"
   ]
  },
  {
   "cell_type": "code",
   "execution_count": 87,
   "metadata": {},
   "outputs": [
    {
     "data": {
      "text/plain": [
       "{'subject': ['prog',\n",
       "  'data science',\n",
       "  'big data',\n",
       "  'data analytics',\n",
       "  'web dev',\n",
       "  'DSA'],\n",
       " 'email_id': ('pankajraj7651@gmail.com', 'sudhanshu@gmail.com'),\n",
       " 'phone_number': 91353543,\n",
       " 'height': 165.78,\n",
       " 'Male': True,\n",
       " 'address': 'prestige 34',\n",
       " 'luckey_number': {1, 2, 3, 4, 5, 6, 52, 65},\n",
       " 'resume': {'linkedin': 'https://www.linkedin.com/in/pankaj-vishwakarma-1257b61a4/',\n",
       "  'github': 'https://github.com/PRaj76',\n",
       "  'age': 30,\n",
       "  'projects': ['megatron', 'lab prject', 'internship portal', 'hand safety']}}"
      ]
     },
     "execution_count": 87,
     "metadata": {},
     "output_type": "execute_result"
    }
   ],
   "source": [
    "d6"
   ]
  },
  {
   "cell_type": "code",
   "execution_count": 88,
   "metadata": {},
   "outputs": [],
   "source": [
    "d6.clear()"
   ]
  },
  {
   "cell_type": "code",
   "execution_count": 89,
   "metadata": {},
   "outputs": [
    {
     "data": {
      "text/plain": [
       "{}"
      ]
     },
     "execution_count": 89,
     "metadata": {},
     "output_type": "execute_result"
    }
   ],
   "source": [
    "d6"
   ]
  },
  {
   "cell_type": "code",
   "execution_count": 90,
   "metadata": {},
   "outputs": [
    {
     "data": {
      "text/plain": [
       "{'subject': ['prog',\n",
       "  'data science',\n",
       "  'big data',\n",
       "  'data analytics',\n",
       "  'web dev',\n",
       "  'DSA'],\n",
       " 'email_id': ('pankajraj7651@gmail.com', 'sudhanshu@gmail.com'),\n",
       " 'phone_number': 91353543,\n",
       " 'height': 165.78,\n",
       " 'Male': True,\n",
       " 'address': 'prestige 34',\n",
       " 'luckey_number': {1, 2, 3, 4, 5, 6, 52, 65},\n",
       " 'resume': {'linkedin': 'https://www.linkedin.com/in/pankaj-vishwakarma-1257b61a4/',\n",
       "  'github': 'https://github.com/PRaj76',\n",
       "  'age': 30,\n",
       "  'projects': ['megatron', 'lab prject', 'internship portal', 'hand safety']}}"
      ]
     },
     "execution_count": 90,
     "metadata": {},
     "output_type": "execute_result"
    }
   ],
   "source": [
    "d5"
   ]
  },
  {
   "cell_type": "code",
   "execution_count": null,
   "metadata": {},
   "outputs": [],
   "source": []
  }
 ],
 "metadata": {
  "kernelspec": {
   "display_name": "Python 3",
   "language": "python",
   "name": "python3"
  },
  "language_info": {
   "codemirror_mode": {
    "name": "ipython",
    "version": 3
   },
   "file_extension": ".py",
   "mimetype": "text/x-python",
   "name": "python",
   "nbconvert_exporter": "python",
   "pygments_lexer": "ipython3",
   "version": "3.9.13"
  }
 },
 "nbformat": 4,
 "nbformat_minor": 2
}
